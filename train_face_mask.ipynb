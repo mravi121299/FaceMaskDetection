{
 "cells": [
  {
   "cell_type": "code",
   "execution_count": 1,
   "id": "creative-housing",
   "metadata": {},
   "outputs": [],
   "source": [
    "import numpy as np\n",
    "import os\n",
    "import matplotlib.pyplot as plt\n",
    "from imutils import paths\n",
    "\n",
    "from tensorflow.keras.applications import MobileNetV2\n",
    "from tensorflow.keras.layers import MaxPooling2D\n",
    "from tensorflow.keras.layers import AveragePooling2D\n",
    "from tensorflow.keras.layers import Dropout\n",
    "from tensorflow.keras.layers import Flatten \n",
    "from tensorflow.keras.layers import Dense\n",
    "from tensorflow.keras.layers import Input\n",
    "from tensorflow.keras.models import Model\n",
    "from tensorflow.keras.optimizers import Adam\n",
    "from tensorflow.keras.applications.mobilenet_v2 import preprocess_input\n",
    "\n",
    "from tensorflow.keras.preprocessing.image import ImageDataGenerator\n",
    "from tensorflow.keras.preprocessing.image import img_to_array\n",
    "from tensorflow.keras.preprocessing.image import load_img\n",
    "from tensorflow.keras.utils import to_categorical\n",
    "import cv2\n",
    "from sklearn.preprocessing import LabelBinarizer\n",
    "from sklearn.model_selection import train_test_split\n",
    "from sklearn.metrics import classification_report"
   ]
  },
  {
   "cell_type": "code",
   "execution_count": 2,
   "id": "impossible-bracelet",
   "metadata": {},
   "outputs": [],
   "source": [
    "INIT_LR=1e-4\n",
    "EPOCHS=20\n",
    "BS=32\n",
    "DIRECTORY=r'C:\\project\\dataset'\n",
    "CATEGORIES=[\"with_mask\",\"without_mask\"]\n"
   ]
  },
  {
   "cell_type": "code",
   "execution_count": 3,
   "id": "periodic-child",
   "metadata": {},
   "outputs": [
    {
     "name": "stdout",
     "output_type": "stream",
     "text": [
      "[INFO] loading images....\n"
     ]
    }
   ],
   "source": [
    "print(\"[INFO] loading images....\")"
   ]
  },
  {
   "cell_type": "code",
   "execution_count": 4,
   "id": "cellular-newspaper",
   "metadata": {},
   "outputs": [
    {
     "name": "stderr",
     "output_type": "stream",
     "text": [
      "C:\\Users\\DELL\\anaconda3\\envs\\deeplearning\\lib\\site-packages\\PIL\\Image.py:962: UserWarning: Palette images with Transparency expressed in bytes should be converted to RGBA images\n",
      "  warnings.warn(\n"
     ]
    }
   ],
   "source": [
    "data=[]\n",
    "labels=[]\n",
    "for category in CATEGORIES:\n",
    "    path=os.path.join(DIRECTORY,category)\n",
    "    for img in os.listdir(path):\n",
    "        img_path=os.path.join(path,img)\n",
    "        image=load_img(img_path,target_size =(224,224))\n",
    "        image=img_to_array(image)\n",
    "        image=preprocess_input(image)\n",
    "        data.append(image)\n",
    "        labels.append(category)\n",
    "    \n",
    "   "
   ]
  },
  {
   "cell_type": "code",
   "execution_count": 5,
   "id": "similar-caribbean",
   "metadata": {},
   "outputs": [],
   "source": [
    "lb=LabelBinarizer()\n",
    "labels=lb.fit_transform(labels)\n",
    "labels=to_categorical(labels)"
   ]
  },
  {
   "cell_type": "code",
   "execution_count": 6,
   "id": "fundamental-impression",
   "metadata": {},
   "outputs": [],
   "source": [
    "data=np.array(data,dtype=\"float32\")\n",
    "labels=np.array(labels)"
   ]
  },
  {
   "cell_type": "code",
   "execution_count": 8,
   "id": "hairy-separation",
   "metadata": {},
   "outputs": [],
   "source": [
    "train_X,test_X,train_Y,test_Y = train_test_split(data,labels,test_size=0.20,stratify=labels,random_state=42)"
   ]
  },
  {
   "cell_type": "code",
   "execution_count": 9,
   "id": "suited-dance",
   "metadata": {},
   "outputs": [],
   "source": [
    "aug=ImageDataGenerator(rotation_range=20,zoom_range=0.15,width_shift_range=0.2,height_shift_range=0.2,shear_range=0.15,horizontal_flip=True,fill_mode='nearest')"
   ]
  },
  {
   "cell_type": "code",
   "execution_count": 10,
   "id": "consolidated-ireland",
   "metadata": {},
   "outputs": [
    {
     "name": "stdout",
     "output_type": "stream",
     "text": [
      "WARNING:tensorflow:`input_shape` is undefined or non-square, or `rows` is not in [96, 128, 160, 192, 224]. Weights for input shape (224, 224) will be loaded as the default.\n"
     ]
    }
   ],
   "source": [
    "baseModel=MobileNetV2(weights='imagenet',include_top=False,input_tensor=Input(shape=(224,224,3))) "
   ]
  },
  {
   "cell_type": "code",
   "execution_count": 11,
   "id": "federal-russian",
   "metadata": {},
   "outputs": [],
   "source": [
    "headModel=baseModel.output\n",
    "headModel=AveragePooling2D(pool_size= (7,7))(headModel)\n",
    "headModel=Flatten(name='Flatten')(headModel)\n",
    "headModel=Dense(128,activation='relu')(headModel)\n",
    "headModel=Dropout(0.5)(headModel)\n",
    "headModel=Dense(2,activation='softmax')(headModel)\n",
    "\n",
    "model=Model(inputs=baseModel.input,outputs=headModel)"
   ]
  },
  {
   "cell_type": "code",
   "execution_count": 12,
   "id": "healthy-genealogy",
   "metadata": {},
   "outputs": [],
   "source": [
    "for layer in baseModel.layers:\n",
    "    layer.trainable=False"
   ]
  },
  {
   "cell_type": "code",
   "execution_count": 13,
   "id": "balanced-musical",
   "metadata": {},
   "outputs": [],
   "source": [
    "\n",
    "opt=Adam(lr=INIT_LR,decay=INIT_LR/EPOCHS)\n",
    "model.compile(loss='binary_crossentropy',optimizer=opt,metrics=['accuracy'])"
   ]
  },
  {
   "cell_type": "code",
   "execution_count": null,
   "id": "aging-multiple",
   "metadata": {},
   "outputs": [
    {
     "name": "stdout",
     "output_type": "stream",
     "text": [
      "Epoch 1/20\n",
      "24/95 [======>.......................] - ETA: 1:13 - loss: 0.5862 - accuracy: 0.7148"
     ]
    }
   ],
   "source": [
    "H=model.fit(\n",
    "    aug.flow(train_X,train_Y,batch_size=BS),\n",
    "    steps_per_epoch=len(train_X)//BS,\n",
    "    validation_data=(test_X,test_Y),\n",
    "    validation_steps=len(test_X)//BS,\n",
    "    epochs=EPOCHS\n",
    ") \n"
   ]
  },
  {
   "cell_type": "code",
   "execution_count": null,
   "id": "incoming-norfolk",
   "metadata": {},
   "outputs": [],
   "source": [
    "predIdxs=model.predict(test_X,batch_size=BS)\n",
    "\n",
    "predIdxs=model.predict(test_X,batch_size=BS)\n",
    "predIdxs=np.argmax(predIdxs,axis=1)\n",
    "print(classification_report(test_Y.argmax(axis=1),predIdxs,target_names=lb.classes_))\n",
    "\n"
   ]
  },
  {
   "cell_type": "code",
   "execution_count": 17,
   "id": "large-voltage",
   "metadata": {},
   "outputs": [],
   "source": [
    "model.save(\"my_mask_detector_Model.model\",save_format=\"h5\")"
   ]
  },
  {
   "cell_type": "code",
   "execution_count": null,
   "id": "spread-peoples",
   "metadata": {},
   "outputs": [],
   "source": [
    "N=EPOCHS\n",
    "plt.style.use(\"ggplot\")\n",
    "plt.figure()\n",
    "plt.plot(np.arange(0,N),H.history[\"loss\"],label=\"train_loss\")\n",
    "plt.plot(np.arange(0,N),H.history[\"val_loss\"],label=\"val_loss\")\n",
    "plt.plot(np.arange(0,N),H.history[\"accuracy\"],label=\"train_acc\")\n",
    "plt.plot(np.arange(0,N),H.history[\"val_accuracy\"],label=\"val_acc\")\n",
    "plt.title(\"Training Loss and Accuracy\")\n",
    "plt.xlabel(\"Epoch #\")\n",
    "plt.ylabel(\"Loss/Accuracy\")\n",
    "plt.legend(loc=\"lower left\")\n",
    "plt.savefig(\"plot.png\")\n"
   ]
  },
  {
   "cell_type": "code",
   "execution_count": null,
   "id": "ultimate-lloyd",
   "metadata": {},
   "outputs": [],
   "source": []
  }
 ],
 "metadata": {
  "kernelspec": {
   "display_name": "Python 3",
   "language": "python",
   "name": "python3"
  },
  "language_info": {
   "codemirror_mode": {
    "name": "ipython",
    "version": 3
   },
   "file_extension": ".py",
   "mimetype": "text/x-python",
   "name": "python",
   "nbconvert_exporter": "python",
   "pygments_lexer": "ipython3",
   "version": "3.8.5"
  }
 },
 "nbformat": 4,
 "nbformat_minor": 5
}
